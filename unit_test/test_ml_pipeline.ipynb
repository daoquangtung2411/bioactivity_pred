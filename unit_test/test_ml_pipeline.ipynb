{
 "cells": [
  {
   "cell_type": "code",
   "execution_count": 4,
   "id": "ae025ba6",
   "metadata": {},
   "outputs": [],
   "source": [
    "import os\n",
    "import numpy as np\n",
    "import pandas as pd\n",
    "from helper.load_dataset import load_bace_classification\n",
    "from helper.preprocess import split_train_valid_test\n",
    "from helper.features import smi_ecfp\n",
    "from sklearn.ensemble import RandomForestClassifier\n",
    "from sklearn.metrics import accuracy_score, f1_score, roc_auc_score\n",
    "from hyperopt import hp, tpe, fmin, Trials, space_eval\n",
    "from hyperopt.pyll import scope"
   ]
  },
  {
   "cell_type": "code",
   "execution_count": 8,
   "id": "0ae0d8fe",
   "metadata": {},
   "outputs": [
    {
     "name": "stdout",
     "output_type": "stream",
     "text": [
      "100%|██████████| 20/20 [00:04<00:00,  4.05trial/s, best loss: -0.8352941176470589]\n",
      "AUC-ROC scores: \n",
      "Train: 0.8658335840648153\n",
      "Test: 0.8162770562770563\n"
     ]
    }
   ],
   "source": [
    "# Load dataset\n",
    "bace_class = load_bace_classification()\n",
    "\n",
    "# Split dataset\n",
    "train, valid, test = split_train_valid_test(bace_class)\n",
    "merge = pd.concat((train, valid))\n",
    "\n",
    "# Generate fingerprint\n",
    "train_smis = train['SMILES']\n",
    "valid_smis = valid['SMILES']\n",
    "test_smis = test['SMILES']\n",
    "merge_smis = merge['SMILES']\n",
    "X_train = [smi_ecfp(smi) for smi in train_smis]\n",
    "X_valid = [smi_ecfp(smi) for smi in valid_smis]\n",
    "X_test = [smi_ecfp(smi) for smi in test_smis]\n",
    "X_merge = [smi_ecfp(smi) for smi in merge_smis]\n",
    "\n",
    "\n",
    "# Target defined\n",
    "y_train = train['Class']\n",
    "y_valid = valid['Class']\n",
    "y_test = test['Class']\n",
    "y_merge = merge['Class']\n",
    "\n",
    "# Hyperparameters tuning with Hyperopt\n",
    "trials = Trials()\n",
    "\n",
    "rf_search_space = {\n",
    "    'n_estimators': scope.int(hp.quniform('n_estimators', 5, 100, 5)),\n",
    "    'max_depth': scope.int(hp.quniform('max_depth', 2, 20, 1)),\n",
    "    'max_features': scope.int(hp.quniform('max_features', 5, 150, 5)),\n",
    "    'min_samples_leaf': scope.int(hp.quniform('min_samples_leaf', 2, 20, 1)),\n",
    "    'min_samples_split': scope.int(hp.quniform('min_samples_split', 2, 20, 1))\n",
    "}\n",
    "\n",
    "def rf_objective(params):\n",
    "    model = RandomForestClassifier(\n",
    "        n_estimators=params['n_estimators'], \n",
    "        max_depth=params['max_depth'], \n",
    "        max_features=params['max_features'], \n",
    "        min_samples_leaf=params['min_samples_leaf'], \n",
    "        min_samples_split=params['min_samples_split'],\n",
    "        n_jobs=1\n",
    "    )\n",
    "    model.fit(X_train, y_train)\n",
    "    y_valid_hat = model.predict(X_valid)\n",
    "    f1 = f1_score(y_valid, y_valid_hat)\n",
    "    return -f1\n",
    "\n",
    "best_rf_params = fmin(\n",
    "    fn=rf_objective,\n",
    "    space=rf_search_space,\n",
    "    algo=tpe.suggest,\n",
    "    max_evals=20,\n",
    "    trials=trials\n",
    ")\n",
    "\n",
    "best_rf_params = space_eval(rf_search_space, best_rf_params)\n",
    "\n",
    "model = RandomForestClassifier(**best_rf_params)\n",
    "model.fit(X_merge, y_merge)\n",
    "y_train_pred = model.predict(X_merge)\n",
    "y_test_pred = model.predict(X_test)\n",
    "\n",
    "roc_train = roc_auc_score(y_merge, y_train_pred)\n",
    "roc_test = roc_auc_score(y_test, y_test_pred)\n",
    "\n",
    "print('AUC-ROC scores: ')\n",
    "print(f'Train: {roc_train}')\n",
    "print(f'Test: {roc_test}')"
   ]
  }
 ],
 "metadata": {
  "kernelspec": {
   "display_name": ".venv",
   "language": "python",
   "name": "python3"
  },
  "language_info": {
   "codemirror_mode": {
    "name": "ipython",
    "version": 3
   },
   "file_extension": ".py",
   "mimetype": "text/x-python",
   "name": "python",
   "nbconvert_exporter": "python",
   "pygments_lexer": "ipython3",
   "version": "3.12.5"
  }
 },
 "nbformat": 4,
 "nbformat_minor": 5
}
