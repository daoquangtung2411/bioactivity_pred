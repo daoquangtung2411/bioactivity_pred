{
 "cells": [
  {
   "cell_type": "markdown",
   "id": "f1b83eb2",
   "metadata": {},
   "source": [
    "## Function testing"
   ]
  },
  {
   "cell_type": "markdown",
   "id": "c6976378",
   "metadata": {},
   "source": [
    "#### **Load dataset**\n",
    "\n",
    "##### Available dataset:\n",
    "\n",
    "|No. | Dataset name | Task type|\n",
    "|----|--------------|----------|\n",
    "|1 | BACE potency predict| classification|\n",
    "|2 | BACE pIC50 predict| regression|\n",
    "|3 | HIV potency predict| classification|\n",
    "|4 | Molecule solubility predict| regression|\n",
    "|5 | Molecule lipophilic predict| regression|\n",
    "\n",
    "*More dataset is coming...*\n"
   ]
  },
  {
   "cell_type": "code",
   "execution_count": 3,
   "id": "d31b9693",
   "metadata": {},
   "outputs": [],
   "source": [
    "from helper.load_dataset import load_bace_classification, load_bace_regression, load_esol, load_hiv, load_lipo, load_hdac2, load_fgfr1"
   ]
  },
  {
   "cell_type": "code",
   "execution_count": 2,
   "id": "3ed91226",
   "metadata": {},
   "outputs": [
    {
     "name": "stdout",
     "output_type": "stream",
     "text": [
      "BACE potency classification task\n",
      "                                              SMILES  Class\n",
      "0  O1CC[C@@H](NC(=O)[C@@H](Cc2cc3cc(ccc3nc2N)-c2c...      1\n",
      "1  Fc1cc(cc(F)c1)C[C@H](NC(=O)[C@@H](N1CC[C@](NC(...      1\n",
      "2  S1(=O)(=O)N(c2cc(cc3c2n(cc3CC)CC1)C(=O)N[C@H](...      1\n",
      "3  S1(=O)(=O)C[C@@H](Cc2cc(O[C@H](COCC)C(F)(F)F)c...      1\n",
      "4  S1(=O)(=O)N(c2cc(cc3c2n(cc3CC)CC1)C(=O)N[C@H](...      1\n"
     ]
    }
   ],
   "source": [
    "# Example of loading dataset\n",
    "\n",
    "print('BACE potency classification task')\n",
    "bace_class = load_bace_classification()\n",
    "print(bace_class.head())\n"
   ]
  },
  {
   "cell_type": "markdown",
   "id": "978623df",
   "metadata": {},
   "source": [
    "### **Split dataset**\n",
    "\n",
    "* Default test size: 10% or test 10% and valid 10%\n",
    "\n",
    "Available split type:\n",
    "\n",
    "- **Random splitting**\n",
    "- **Scaffold splitting** (split less frequent scaffold to test set in order to mimic real-world application)"
   ]
  },
  {
   "cell_type": "code",
   "execution_count": 3,
   "id": "cfb918ee",
   "metadata": {},
   "outputs": [],
   "source": [
    "from helper.preprocess import split_train_test, split_train_valid_test"
   ]
  },
  {
   "cell_type": "code",
   "execution_count": 4,
   "id": "290c03de",
   "metadata": {},
   "outputs": [
    {
     "name": "stdout",
     "output_type": "stream",
     "text": [
      "Random Splitting\n",
      "Train - Test\n",
      "Train size: 1361 | Test size: 152\n",
      "Train - Valid - Test\n",
      "Train size: 1190 | Valid size: 171 |Test size: 152\n",
      "________________\n",
      "\n",
      "Scaffold Splitting\n",
      "Train - Test\n",
      "Train size: 1361 | Test size: 152\n",
      "Train - Valid - Test\n",
      "Train size: 1210 | Valid size: 151 |Test size: 152\n"
     ]
    }
   ],
   "source": [
    "# Train - test split\n",
    "print('Random Splitting')\n",
    "print('Train - Test')\n",
    "bace_train, bace_test = split_train_test(bace_class)\n",
    "print(f'Train size: {len(bace_train)} | Test size: {len(bace_test)}')\n",
    "\n",
    "print('Train - Valid - Test')\n",
    "bace_train, bace_valid, bace_test = split_train_valid_test(bace_class)\n",
    "print(f'Train size: {len(bace_train)} | Valid size: {len(bace_valid)} |Test size: {len(bace_test)}')\n",
    "\n",
    "print('________________\\n')\n",
    "\n",
    "print('Scaffold Splitting')\n",
    "print('Train - Test')\n",
    "bace_train, bace_test = split_train_test(bace_class, type='scaffold')\n",
    "print(f'Train size: {len(bace_train)} | Test size: {len(bace_test)}')\n",
    "print('Train - Valid - Test')\n",
    "bace_train, bace_valid, bace_test = split_train_valid_test(bace_class, type='scaffold')\n",
    "print(f'Train size: {len(bace_train)} | Valid size: {len(bace_valid)} |Test size: {len(bace_test)}')\n"
   ]
  },
  {
   "cell_type": "markdown",
   "id": "b5d44329",
   "metadata": {},
   "source": [
    "### **Generate fingerprint/descriptor**\n",
    "\n",
    "Available fingerprint/descriptors:\n",
    "\n",
    "- ECFP (Extended circular fingerprint)\n",
    "- MACCS (Substructure fingerprint)\n",
    "- RDKit Descriptors (0D molecular descriptors)\n",
    "- eRG (extended reduced graph)"
   ]
  },
  {
   "cell_type": "code",
   "execution_count": 5,
   "id": "b15b398a",
   "metadata": {},
   "outputs": [],
   "source": [
    "from helper.features import smi_ecfp, smi_erg, smi_maccs, smi_rdkitDesc"
   ]
  },
  {
   "cell_type": "code",
   "execution_count": 13,
   "id": "b2e7d41c",
   "metadata": {},
   "outputs": [
    {
     "name": "stdout",
     "output_type": "stream",
     "text": [
      "SMILES to ECFP, default ECFP4, 1024 bits, can change it with radius and n_bits arguments\n",
      "ECFP arrays: [0. 0. 0. ... 0. 0. 0.] \n",
      "Length: 1024\n",
      "_____________\n",
      "\n",
      "SMILES to MACCS\n",
      "MACCS arrays: [0, 0, 0, 0, 0, 0, 0, 0, 0, 0, 0, 0, 0, 0, 0, 0, 0, 0, 0, 0, 0, 0, 0, 0, 0, 0, 0, 0, 0, 0, 0, 0, 0, 0, 0, 0, 0, 0, 0, 0, 0, 0, 0, 0, 0, 0, 0, 0, 0, 0, 0, 0, 0, 0, 0, 0, 0, 0, 0, 0, 0, 0, 0, 0, 0, 0, 0, 0, 0, 0, 0, 0, 0, 0, 0, 0, 0, 0, 0, 0, 0, 0, 0, 0, 0, 0, 0, 0, 0, 0, 0, 0, 0, 0, 0, 0, 0, 0, 0, 0, 0, 0, 0, 0, 0, 0, 0, 0, 0, 0, 0, 0, 0, 0, 0, 0, 0, 0, 0, 0, 0, 0, 0, 0, 0, 0, 0, 0, 0, 0, 0, 0, 0, 0, 0, 0, 0, 0, 0, 0, 0, 0, 0, 0, 0, 0, 0, 0, 0, 0, 0, 0, 0, 0, 0, 0, 0, 0, 0, 0, 0, 0, 1, 1, 0, 1, 0] \n",
      "Length: 167\n",
      "_____________\n",
      "\n",
      "SMILES to RDKit Descriptors\n",
      "RDKit Descriptors arrays: [2.0, 2.0, 2.0, 2.0, 0.4426283718993647, 8.0, 78.11399999999999, 72.06599999999999, 78.046950192, 30, 0, -0.062268570782092456, -0.062268570782092456, 0.062268570782092456, 0.062268570782092456, 0.3333333333333333, 0.5, 0.6666666666666666, 13.646993161855445, 10.379006838144555, 1.5737245910733604, -1.6942617326375449, 1.794093161855452, -1.4738931618554547, 4.985993161855456, 1.718006838144549, 1.719973094021975, 3.000000000000001, 71.96100505779535, 4.242640687119286, 3.464101615137755, 3.464101615137755, 3.0, 2.0000000000000004, 2.0000000000000004, 1.1547005383792521, 1.1547005383792521, 0.6666666666666671, 0.6666666666666671, 0.38490017945975075, 0.38490017945975075, -0.78, 34.3994618804395, 3.4115708812260532, 1.6057694396735218, 0.5823992601400448, 37.43140311949697, 0.0, 0.0, 0.0, 0.0, 0.0, 0.0, 0.0, 0.0, 0.0, 0.0, 36.39820241076966, 0.0, 0.0, 0.0, 0.0, 0.0, 0.0, 0.0, 0.0, 0.0, 0.0, 36.39820241076966, 0.0, 0.0, 0.0, 0.0, 0.0, 0.0, 0.0, 0.0, 0.0, 0.0, 36.39820241076966, 0.0, 0.0, 0.0, 0.0, 0.0, 0.0, 0.0, 0.0, 0.0, 0.0, 0.0, 0.0, 36.39820241076966, 0.0, 0.0, 0.0, 0.0, 0.0, 0.0, 0.0, 0.0, 12.0, 0.0, 0.0, 0.0, 0.0, 6, 0, 0, 0, 0, 0, 0, 1, 0, 1, 0, 0, 0, 0, 0, 0, 0, 0, 0, 0, 0, 0, 0.9130327103921437, 1, 1.6866, 26.441999999999993, 0, 0, 0, 0, 0, 0, 0, 0, 0, 0, 0, 0, 0, 0, 0, 0, 0, 0, 0, 0, 0, 0, 0, 0, 0, 0, 0, 0, 0, 0, 0, 0, 0, 0, 1, 0, 0, 0, 0, 0, 0, 0, 0, 0, 0, 0, 0, 0, 0, 0, 0, 0, 0, 0, 0, 0, 0, 0, 0, 0, 0, 0, 0, 0, 0, 0, 0, 0, 0, 0, 0, 0, 0, 0, 0, 0, 0, 0, 0, 0, 0, 0, 0, 0, 0] \n",
      "Length: 217\n",
      "_____________\n",
      "\n",
      "SMILES to eRG\n",
      "ERG arrays: [0. 0. 0. 0. 0. 0. 0. 0. 0. 0. 0. 0. 0. 0. 0. 0. 0. 0. 0. 0. 0. 0. 0. 0.\n",
      " 0. 0. 0. 0. 0. 0. 0. 0. 0. 0. 0. 0. 0. 0. 0. 0. 0. 0. 0. 0. 0. 0. 0. 0.\n",
      " 0. 0. 0. 0. 0. 0. 0. 0. 0. 0. 0. 0. 0. 0. 0. 0. 0. 0. 0. 0. 0. 0. 0. 0.\n",
      " 0. 0. 0. 0. 0. 0. 0. 0. 0. 0. 0. 0. 0. 0. 0. 0. 0. 0. 0. 0. 0. 0. 0. 0.\n",
      " 0. 0. 0. 0. 0. 0. 0. 0. 0. 0. 0. 0. 0. 0. 0. 0. 0. 0. 0. 0. 0. 0. 0. 0.\n",
      " 0. 0. 0. 0. 0. 0. 0. 0. 0. 0. 0. 0. 0. 0. 0. 0. 0. 0. 0. 0. 0. 0. 0. 0.\n",
      " 0. 0. 0. 0. 0. 0. 0. 0. 0. 0. 0. 0. 0. 0. 0. 0. 0. 0. 0. 0. 0. 0. 0. 0.\n",
      " 0. 0. 0. 0. 0. 0. 0. 0. 0. 0. 0. 0. 0. 0. 0. 0. 0. 0. 0. 0. 0. 0. 0. 0.\n",
      " 0. 0. 0. 0. 0. 0. 0. 0. 0. 0. 0. 0. 0. 0. 0. 0. 0. 0. 0. 0. 0. 0. 0. 0.\n",
      " 0. 0. 0. 0. 0. 0. 0. 0. 0. 0. 0. 0. 0. 0. 0. 0. 0. 0. 0. 0. 0. 0. 0. 0.\n",
      " 0. 0. 0. 0. 0. 0. 0. 0. 0. 0. 0. 0. 0. 0. 0. 0. 0. 0. 0. 0. 0. 0. 0. 0.\n",
      " 0. 0. 0. 0. 0. 0. 0. 0. 0. 0. 0. 0. 0. 0. 0. 0. 0. 0. 0. 0. 0. 0. 0. 0.\n",
      " 0. 0. 0. 0. 0. 0. 0. 0. 0. 0. 0. 0. 0. 0. 0. 0. 0. 0. 0. 0. 0. 0. 0. 0.\n",
      " 0. 0. 0.] \n",
      "Length: 315\n"
     ]
    }
   ],
   "source": [
    "test_smi = 'c1ccccc1'\n",
    "print('SMILES to ECFP, default ECFP4, 1024 bits, can change it with radius and n_bits arguments')\n",
    "\n",
    "test_ecfp = smi_ecfp(test_smi, radius=2, n_bits=1024) # default set ECFP4, 1024 bits\n",
    "print(f'ECFP arrays: {test_ecfp} \\nLength: {len(test_ecfp)}')\n",
    "\n",
    "print('_____________\\n')\n",
    "\n",
    "print('SMILES to MACCS')\n",
    "test_maccs = smi_maccs(test_smi)\n",
    "print(f'MACCS arrays: {test_maccs} \\nLength: {len(test_maccs)}')\n",
    "\n",
    "\n",
    "print('_____________\\n')\n",
    "\n",
    "print('SMILES to RDKit Descriptors')\n",
    "test_rdkitdesc = smi_rdkitDesc(test_smi)\n",
    "print(f'RDKit Descriptors arrays: {test_rdkitdesc} \\nLength: {len(test_rdkitdesc)}')\n",
    "\n",
    "\n",
    "print('_____________\\n')\n",
    "\n",
    "print('SMILES to eRG')\n",
    "test_erg = smi_erg(test_smi)\n",
    "print(f'ERG arrays: {test_erg} \\nLength: {len(test_erg)}')"
   ]
  },
  {
   "cell_type": "markdown",
   "id": "c3cbd3b2",
   "metadata": {},
   "source": [
    "#### **Generate graph features**\n",
    "\n",
    "Function to call graph features class and encoding molecule. Might have add more features and different set to work with"
   ]
  },
  {
   "cell_type": "code",
   "execution_count": 14,
   "id": "5ae1519a",
   "metadata": {},
   "outputs": [],
   "source": [
    "from helper.graphfeat import StructureEncoder"
   ]
  },
  {
   "cell_type": "code",
   "execution_count": 19,
   "id": "2df15c40",
   "metadata": {},
   "outputs": [
    {
     "name": "stdout",
     "output_type": "stream",
     "text": [
      "Node features:\n",
      "Number of node features: 47\n",
      "tensor([[ 0.0000,  1.0000,  0.0000,  0.0000,  0.0000,  0.0000,  0.0000,  0.0000,\n",
      "          0.0000,  0.0000,  0.0000,  1.0000,  0.0000,  0.0000,  0.0000,  0.0000,\n",
      "          1.0000,  0.0000,  0.0000,  0.0000,  0.0000,  0.0000,  1.0000,  0.0000,\n",
      "          0.0000,  0.0000,  0.0000,  0.0000,  1.0000,  0.0000,  0.0000,  0.5000,\n",
      "          1.0000,  1.0000,  1.0000,  0.0000,  0.0000,  0.0000, -0.0623,  0.0000,\n",
      "          0.0000,  0.0000,  0.0000,  0.0000,  0.0000,  0.0000,  0.0000],\n",
      "        [ 0.0000,  1.0000,  0.0000,  0.0000,  0.0000,  0.0000,  0.0000,  0.0000,\n",
      "          0.0000,  0.0000,  0.0000,  1.0000,  0.0000,  0.0000,  0.0000,  0.0000,\n",
      "          1.0000,  0.0000,  0.0000,  0.0000,  0.0000,  0.0000,  1.0000,  0.0000,\n",
      "          0.0000,  0.0000,  0.0000,  0.0000,  1.0000,  0.0000,  0.0000,  0.5000,\n",
      "          1.0000,  1.0000,  1.0000,  0.0000,  0.0000,  0.0000, -0.0623,  0.0000,\n",
      "          0.0000,  0.0000,  0.0000,  0.0000,  0.0000,  0.0000,  0.0000],\n",
      "        [ 0.0000,  1.0000,  0.0000,  0.0000,  0.0000,  0.0000,  0.0000,  0.0000,\n",
      "          0.0000,  0.0000,  0.0000,  1.0000,  0.0000,  0.0000,  0.0000,  0.0000,\n",
      "          1.0000,  0.0000,  0.0000,  0.0000,  0.0000,  0.0000,  1.0000,  0.0000,\n",
      "          0.0000,  0.0000,  0.0000,  0.0000,  1.0000,  0.0000,  0.0000,  0.5000,\n",
      "          1.0000,  1.0000,  1.0000,  0.0000,  0.0000,  0.0000, -0.0623,  0.0000,\n",
      "          0.0000,  0.0000,  0.0000,  0.0000,  0.0000,  0.0000,  0.0000],\n",
      "        [ 0.0000,  1.0000,  0.0000,  0.0000,  0.0000,  0.0000,  0.0000,  0.0000,\n",
      "          0.0000,  0.0000,  0.0000,  1.0000,  0.0000,  0.0000,  0.0000,  0.0000,\n",
      "          1.0000,  0.0000,  0.0000,  0.0000,  0.0000,  0.0000,  1.0000,  0.0000,\n",
      "          0.0000,  0.0000,  0.0000,  0.0000,  1.0000,  0.0000,  0.0000,  0.5000,\n",
      "          1.0000,  1.0000,  1.0000,  0.0000,  0.0000,  0.0000, -0.0623,  0.0000,\n",
      "          0.0000,  0.0000,  0.0000,  0.0000,  0.0000,  0.0000,  0.0000],\n",
      "        [ 0.0000,  1.0000,  0.0000,  0.0000,  0.0000,  0.0000,  0.0000,  0.0000,\n",
      "          0.0000,  0.0000,  0.0000,  1.0000,  0.0000,  0.0000,  0.0000,  0.0000,\n",
      "          1.0000,  0.0000,  0.0000,  0.0000,  0.0000,  0.0000,  1.0000,  0.0000,\n",
      "          0.0000,  0.0000,  0.0000,  0.0000,  1.0000,  0.0000,  0.0000,  0.5000,\n",
      "          1.0000,  1.0000,  1.0000,  0.0000,  0.0000,  0.0000, -0.0623,  0.0000,\n",
      "          0.0000,  0.0000,  0.0000,  0.0000,  0.0000,  0.0000,  0.0000],\n",
      "        [ 0.0000,  1.0000,  0.0000,  0.0000,  0.0000,  0.0000,  0.0000,  0.0000,\n",
      "          0.0000,  0.0000,  0.0000,  1.0000,  0.0000,  0.0000,  0.0000,  0.0000,\n",
      "          1.0000,  0.0000,  0.0000,  0.0000,  0.0000,  0.0000,  1.0000,  0.0000,\n",
      "          0.0000,  0.0000,  0.0000,  0.0000,  1.0000,  0.0000,  0.0000,  0.5000,\n",
      "          1.0000,  1.0000,  1.0000,  0.0000,  0.0000,  0.0000, -0.0623,  0.0000,\n",
      "          0.0000,  0.0000,  0.0000,  0.0000,  0.0000,  0.0000,  0.0000]])\n",
      "Edge features:\n",
      "Number of edge features: 28\n",
      "tensor([[0., 0., 0., 1., 0., 0., 0., 0., 0., 0., 0., 0., 1., 0., 1., 1., 1., 1.,\n",
      "         0., 0., 0., 0., 0., 0., 0., 0., 0., 1.],\n",
      "        [0., 0., 0., 1., 0., 0., 0., 0., 0., 0., 0., 0., 1., 0., 1., 1., 1., 1.,\n",
      "         0., 0., 0., 0., 0., 0., 0., 0., 0., 1.],\n",
      "        [0., 0., 0., 1., 0., 0., 0., 0., 0., 0., 0., 0., 1., 0., 1., 1., 1., 1.,\n",
      "         0., 0., 0., 0., 0., 0., 0., 0., 0., 1.],\n",
      "        [0., 0., 0., 1., 0., 0., 0., 0., 0., 0., 0., 0., 1., 0., 1., 1., 1., 1.,\n",
      "         0., 0., 0., 0., 0., 0., 0., 0., 0., 1.],\n",
      "        [0., 0., 0., 1., 0., 0., 0., 0., 0., 0., 0., 0., 1., 0., 1., 1., 1., 1.,\n",
      "         0., 0., 0., 0., 0., 0., 0., 0., 0., 1.],\n",
      "        [0., 0., 0., 1., 0., 0., 0., 0., 0., 0., 0., 0., 1., 0., 1., 1., 1., 1.,\n",
      "         0., 0., 0., 0., 0., 0., 0., 0., 0., 1.],\n",
      "        [0., 0., 0., 1., 0., 0., 0., 0., 0., 0., 0., 0., 1., 0., 1., 1., 1., 1.,\n",
      "         0., 0., 0., 0., 0., 0., 0., 0., 0., 1.],\n",
      "        [0., 0., 0., 1., 0., 0., 0., 0., 0., 0., 0., 0., 1., 0., 1., 1., 1., 1.,\n",
      "         0., 0., 0., 0., 0., 0., 0., 0., 0., 1.],\n",
      "        [0., 0., 0., 1., 0., 0., 0., 0., 0., 0., 0., 0., 1., 0., 1., 1., 1., 1.,\n",
      "         0., 0., 0., 0., 0., 0., 0., 0., 0., 1.],\n",
      "        [0., 0., 0., 1., 0., 0., 0., 0., 0., 0., 0., 0., 1., 0., 1., 1., 1., 1.,\n",
      "         0., 0., 0., 0., 0., 0., 0., 0., 0., 1.],\n",
      "        [0., 0., 0., 1., 0., 0., 0., 0., 0., 0., 0., 0., 1., 0., 1., 1., 1., 1.,\n",
      "         0., 0., 0., 0., 0., 0., 0., 0., 0., 1.],\n",
      "        [0., 0., 0., 1., 0., 0., 0., 0., 0., 0., 0., 0., 1., 0., 1., 1., 1., 1.,\n",
      "         0., 0., 0., 0., 0., 0., 0., 0., 0., 1.]])\n"
     ]
    }
   ],
   "source": [
    "graph_generation = StructureEncoder()\n",
    "graph = graph_generation.encoding_structure('c1ccccc1', 1)\n",
    "print('Node features:')\n",
    "print(f'Number of node features: {graph.num_node_features}')\n",
    "print(graph.x)\n",
    "\n",
    "print('Edge features:')\n",
    "print(f'Number of edge features: {graph.num_edge_features}')\n",
    "print(graph.edge_attr)"
   ]
  }
 ],
 "metadata": {
  "kernelspec": {
   "display_name": ".venv",
   "language": "python",
   "name": "python3"
  },
  "language_info": {
   "codemirror_mode": {
    "name": "ipython",
    "version": 3
   },
   "file_extension": ".py",
   "mimetype": "text/x-python",
   "name": "python",
   "nbconvert_exporter": "python",
   "pygments_lexer": "ipython3",
   "version": "3.12.5"
  }
 },
 "nbformat": 4,
 "nbformat_minor": 5
}
